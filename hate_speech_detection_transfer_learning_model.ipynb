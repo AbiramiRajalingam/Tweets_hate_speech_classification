{
  "nbformat": 4,
  "nbformat_minor": 0,
  "metadata": {
    "colab": {
      "provenance": [],
      "machine_shape": "hm"
    },
    "kernelspec": {
      "name": "python3",
      "display_name": "Python 3"
    },
    "language_info": {
      "name": "python"
    },
    "accelerator": "GPU",
    "gpuClass": "standard"
  },
  "cells": [
    {
      "cell_type": "markdown",
      "source": [
        "AUTHOR : ABIRAMI RAJALINGAM\n",
        "\n",
        "I wrote all of the explanatory text and comments in this notebook. It was adapted from https://github.com/NitishKundu/Tweets_hate_speech_classification/blob/main/notebooks/hate_speech_detection_transfer_learning_model.ipynb"
      ],
      "metadata": {
        "id": "o0mQQDxBzT2x"
      }
    },
    {
      "cell_type": "markdown",
      "source": [
        "### Mounting google drive for final data"
      ],
      "metadata": {
        "id": "T031lVetPdZ7"
      }
    },
    {
      "cell_type": "markdown",
      "source": [
        "BLOCK 1"
      ],
      "metadata": {
        "id": "Sutr-hIoznqU"
      }
    },
    {
      "cell_type": "code",
      "source": [
        "from google.colab import drive\n",
        "# This imports the drive module from the google.colab library, which provides a set of tools for working with Google Drive in Colab.\n",
        "\n",
        "drive.mount('/content/gdrive')\n",
        "#This mounts the Google Drive of the user who is running the Colab notebook and prompts them to enter an authorization code to grant Colab access to their Drive\n",
        "root_path = 'gdrive/My Drive/hate_speech/'\n",
        "#This sets the root_path variable to the path of a specific directory in the user's Google Drive."
      ],
      "metadata": {
        "colab": {
          "base_uri": "https://localhost:8080/"
        },
        "id": "hj6BCQ1WW7ps",
        "outputId": "8a03d1c2-7d31-4a9b-8ef1-3b6eee809177"
      },
      "execution_count": 2,
      "outputs": [
        {
          "output_type": "stream",
          "name": "stdout",
          "text": [
            "Drive already mounted at /content/gdrive; to attempt to forcibly remount, call drive.mount(\"/content/gdrive\", force_remount=True).\n"
          ]
        }
      ]
    },
    {
      "cell_type": "markdown",
      "source": [
        "## Importing necessary libraries"
      ],
      "metadata": {
        "id": "79HpxmdzP6Ni"
      }
    },
    {
      "cell_type": "markdown",
      "source": [
        "BLOCK 2"
      ],
      "metadata": {
        "id": "qYWgQbMRzvYC"
      }
    },
    {
      "cell_type": "code",
      "source": [
        "import numpy as np\n",
        "#numpy library is usually used for performing numerical computations and manipulating arrays\n",
        "import pandas as pd\n",
        "#panda library is used for data manipulation, analysis, and visualization\n",
        "import tensorflow as tf\n",
        "#the main library used for creating and training neural networks.\n",
        "from tensorflow import keras\n",
        "#the high-level API for building and training models in TensorFlow.\n",
        "import tensorflow_hub as hub\n",
        "#provides a way to easily use pre-trained models for transfer learning.\n",
        "import matplotlib.pyplot as plt\n",
        "#is a library for plotting graphs and charts.\n",
        "from tensorflow.keras.optimizers import Adam\n",
        "#adam is an optimizer from the keras API used for gradient descent during training.\n",
        "\n",
        "#The above code imports the necessary libraries for implementing a neural network using TensorFlow, including NumPy, Pandas, TensorFlow, TensorFlow Hub, and Matplotlib. \n",
        "#It also imports the Adam optimizer from Keras."
      ],
      "metadata": {
        "id": "1Ngs2JSjXOvM"
      },
      "execution_count": 3,
      "outputs": []
    },
    {
      "cell_type": "markdown",
      "source": [
        "### Reading data in CSV format"
      ],
      "metadata": {
        "id": "miI5ZNTtQCzp"
      }
    },
    {
      "cell_type": "markdown",
      "source": [
        "BLOCK 3"
      ],
      "metadata": {
        "id": "8cdqhVbJ0cLI"
      }
    },
    {
      "cell_type": "code",
      "source": [
        "data =  pd.read_csv('gdrive/My Drive/hate_speech/final_data.csv')\n",
        "#This uses the pd.read_csv() function from the pandas library to read a CSV file located at drive.\n",
        "#the data is loaded into a DataFrame data\n",
        "data.head()\n",
        "##This displays the first few rows of the DataFrame."
      ],
      "metadata": {
        "colab": {
          "base_uri": "https://localhost:8080/",
          "height": 513
        },
        "id": "g9yxVgObXCi7",
        "outputId": "62f054a7-43a6-4c15-e5c3-fbac6077dfc7"
      },
      "execution_count": 4,
      "outputs": [
        {
          "output_type": "execute_result",
          "data": {
            "text/plain": [
              "   Unnamed: 0                                        tweet_lower  \\\n",
              "0           0  brand new big flowdan in the emails   #horrorshow   \n",
              "1           1                @mckinley719 fuck bitches get money   \n",
              "2           2  rt @_____al: exactly. don't be gettin no addit...   \n",
              "3           3  niccas use to be like you always tryn pull a f...   \n",
              "4           4                       @munafal777 karma is a bitch   \n",
              "\n",
              "   handle_count                                     handle_removed  \\\n",
              "0             0  brand new big flowdan in the emails   #horrorshow   \n",
              "1             1                             fuck bitches get money   \n",
              "2             1  rt : exactly. don't be gettin no additional pu...   \n",
              "3             0  niccas use to be like you always tryn pull a f...   \n",
              "4             1                                   karma is a bitch   \n",
              "\n",
              "                                         url_removed  \\\n",
              "0  brand new big flowdan in the emails   #horrorshow   \n",
              "1                             fuck bitches get money   \n",
              "2  rt : exactly. don't be gettin no additional pu...   \n",
              "3  niccas use to be like you always tryn pull a f...   \n",
              "4                                   karma is a bitch   \n",
              "\n",
              "                                special_char_removed  \\\n",
              "0  brand new big flowdan in the emails   #horrorshow   \n",
              "1                             fuck bitches get money   \n",
              "2  rt   exactly  don't be gettin no additional pu...   \n",
              "3  niccas use to be like you always tryn pull a f...   \n",
              "4                                   karma is a bitch   \n",
              "\n",
              "                              single_hashtag_removed  tweets_length  \\\n",
              "0  brand new big flowdan in the emails   #horrorshow             49   \n",
              "1                             fuck bitches get money             23   \n",
              "2  rt   exactly  don't be gettin no additional pu...             95   \n",
              "3  niccas use to be like you always tryn pull a f...             77   \n",
              "4                                   karma is a bitch             17   \n",
              "\n",
              "                                          lemmatized  \\\n",
              "0     brand new big flowdan in the email #horrorshow   \n",
              "1                               fuck bitch get money   \n",
              "2  rt exactly do n't be gettin no additional puss...   \n",
              "3  niccas use to be like you always tryn pull a f...   \n",
              "4                                   karma be a bitch   \n",
              "\n",
              "                             tweet_stopwords_removed  target  \n",
              "0            brand new big flowdan email #horrorshow       0  \n",
              "1                               fuck bitch get money       1  \n",
              "2  exactly n't gettin additional pussy soft ass t...       1  \n",
              "3  niccas use like always tryn pull finesse duh n...       1  \n",
              "4                                        karma bitch       1  "
            ],
            "text/html": [
              "\n",
              "  <div id=\"df-db31b20b-13c5-4905-a1dc-48a32d9214f2\">\n",
              "    <div class=\"colab-df-container\">\n",
              "      <div>\n",
              "<style scoped>\n",
              "    .dataframe tbody tr th:only-of-type {\n",
              "        vertical-align: middle;\n",
              "    }\n",
              "\n",
              "    .dataframe tbody tr th {\n",
              "        vertical-align: top;\n",
              "    }\n",
              "\n",
              "    .dataframe thead th {\n",
              "        text-align: right;\n",
              "    }\n",
              "</style>\n",
              "<table border=\"1\" class=\"dataframe\">\n",
              "  <thead>\n",
              "    <tr style=\"text-align: right;\">\n",
              "      <th></th>\n",
              "      <th>Unnamed: 0</th>\n",
              "      <th>tweet_lower</th>\n",
              "      <th>handle_count</th>\n",
              "      <th>handle_removed</th>\n",
              "      <th>url_removed</th>\n",
              "      <th>special_char_removed</th>\n",
              "      <th>single_hashtag_removed</th>\n",
              "      <th>tweets_length</th>\n",
              "      <th>lemmatized</th>\n",
              "      <th>tweet_stopwords_removed</th>\n",
              "      <th>target</th>\n",
              "    </tr>\n",
              "  </thead>\n",
              "  <tbody>\n",
              "    <tr>\n",
              "      <th>0</th>\n",
              "      <td>0</td>\n",
              "      <td>brand new big flowdan in the emails   #horrorshow</td>\n",
              "      <td>0</td>\n",
              "      <td>brand new big flowdan in the emails   #horrorshow</td>\n",
              "      <td>brand new big flowdan in the emails   #horrorshow</td>\n",
              "      <td>brand new big flowdan in the emails   #horrorshow</td>\n",
              "      <td>brand new big flowdan in the emails   #horrorshow</td>\n",
              "      <td>49</td>\n",
              "      <td>brand new big flowdan in the email #horrorshow</td>\n",
              "      <td>brand new big flowdan email #horrorshow</td>\n",
              "      <td>0</td>\n",
              "    </tr>\n",
              "    <tr>\n",
              "      <th>1</th>\n",
              "      <td>1</td>\n",
              "      <td>@mckinley719 fuck bitches get money</td>\n",
              "      <td>1</td>\n",
              "      <td>fuck bitches get money</td>\n",
              "      <td>fuck bitches get money</td>\n",
              "      <td>fuck bitches get money</td>\n",
              "      <td>fuck bitches get money</td>\n",
              "      <td>23</td>\n",
              "      <td>fuck bitch get money</td>\n",
              "      <td>fuck bitch get money</td>\n",
              "      <td>1</td>\n",
              "    </tr>\n",
              "    <tr>\n",
              "      <th>2</th>\n",
              "      <td>2</td>\n",
              "      <td>rt @_____al: exactly. don't be gettin no addit...</td>\n",
              "      <td>1</td>\n",
              "      <td>rt : exactly. don't be gettin no additional pu...</td>\n",
              "      <td>rt : exactly. don't be gettin no additional pu...</td>\n",
              "      <td>rt   exactly  don't be gettin no additional pu...</td>\n",
              "      <td>rt   exactly  don't be gettin no additional pu...</td>\n",
              "      <td>95</td>\n",
              "      <td>rt exactly do n't be gettin no additional puss...</td>\n",
              "      <td>exactly n't gettin additional pussy soft ass t...</td>\n",
              "      <td>1</td>\n",
              "    </tr>\n",
              "    <tr>\n",
              "      <th>3</th>\n",
              "      <td>3</td>\n",
              "      <td>niccas use to be like you always tryn pull a f...</td>\n",
              "      <td>0</td>\n",
              "      <td>niccas use to be like you always tryn pull a f...</td>\n",
              "      <td>niccas use to be like you always tryn pull a f...</td>\n",
              "      <td>niccas use to be like you always tryn pull a f...</td>\n",
              "      <td>niccas use to be like you always tryn pull a f...</td>\n",
              "      <td>77</td>\n",
              "      <td>niccas use to be like you always tryn pull a f...</td>\n",
              "      <td>niccas use like always tryn pull finesse duh n...</td>\n",
              "      <td>1</td>\n",
              "    </tr>\n",
              "    <tr>\n",
              "      <th>4</th>\n",
              "      <td>4</td>\n",
              "      <td>@munafal777 karma is a bitch</td>\n",
              "      <td>1</td>\n",
              "      <td>karma is a bitch</td>\n",
              "      <td>karma is a bitch</td>\n",
              "      <td>karma is a bitch</td>\n",
              "      <td>karma is a bitch</td>\n",
              "      <td>17</td>\n",
              "      <td>karma be a bitch</td>\n",
              "      <td>karma bitch</td>\n",
              "      <td>1</td>\n",
              "    </tr>\n",
              "  </tbody>\n",
              "</table>\n",
              "</div>\n",
              "      <button class=\"colab-df-convert\" onclick=\"convertToInteractive('df-db31b20b-13c5-4905-a1dc-48a32d9214f2')\"\n",
              "              title=\"Convert this dataframe to an interactive table.\"\n",
              "              style=\"display:none;\">\n",
              "        \n",
              "  <svg xmlns=\"http://www.w3.org/2000/svg\" height=\"24px\"viewBox=\"0 0 24 24\"\n",
              "       width=\"24px\">\n",
              "    <path d=\"M0 0h24v24H0V0z\" fill=\"none\"/>\n",
              "    <path d=\"M18.56 5.44l.94 2.06.94-2.06 2.06-.94-2.06-.94-.94-2.06-.94 2.06-2.06.94zm-11 1L8.5 8.5l.94-2.06 2.06-.94-2.06-.94L8.5 2.5l-.94 2.06-2.06.94zm10 10l.94 2.06.94-2.06 2.06-.94-2.06-.94-.94-2.06-.94 2.06-2.06.94z\"/><path d=\"M17.41 7.96l-1.37-1.37c-.4-.4-.92-.59-1.43-.59-.52 0-1.04.2-1.43.59L10.3 9.45l-7.72 7.72c-.78.78-.78 2.05 0 2.83L4 21.41c.39.39.9.59 1.41.59.51 0 1.02-.2 1.41-.59l7.78-7.78 2.81-2.81c.8-.78.8-2.07 0-2.86zM5.41 20L4 18.59l7.72-7.72 1.47 1.35L5.41 20z\"/>\n",
              "  </svg>\n",
              "      </button>\n",
              "      \n",
              "  <style>\n",
              "    .colab-df-container {\n",
              "      display:flex;\n",
              "      flex-wrap:wrap;\n",
              "      gap: 12px;\n",
              "    }\n",
              "\n",
              "    .colab-df-convert {\n",
              "      background-color: #E8F0FE;\n",
              "      border: none;\n",
              "      border-radius: 50%;\n",
              "      cursor: pointer;\n",
              "      display: none;\n",
              "      fill: #1967D2;\n",
              "      height: 32px;\n",
              "      padding: 0 0 0 0;\n",
              "      width: 32px;\n",
              "    }\n",
              "\n",
              "    .colab-df-convert:hover {\n",
              "      background-color: #E2EBFA;\n",
              "      box-shadow: 0px 1px 2px rgba(60, 64, 67, 0.3), 0px 1px 3px 1px rgba(60, 64, 67, 0.15);\n",
              "      fill: #174EA6;\n",
              "    }\n",
              "\n",
              "    [theme=dark] .colab-df-convert {\n",
              "      background-color: #3B4455;\n",
              "      fill: #D2E3FC;\n",
              "    }\n",
              "\n",
              "    [theme=dark] .colab-df-convert:hover {\n",
              "      background-color: #434B5C;\n",
              "      box-shadow: 0px 1px 3px 1px rgba(0, 0, 0, 0.15);\n",
              "      filter: drop-shadow(0px 1px 2px rgba(0, 0, 0, 0.3));\n",
              "      fill: #FFFFFF;\n",
              "    }\n",
              "  </style>\n",
              "\n",
              "      <script>\n",
              "        const buttonEl =\n",
              "          document.querySelector('#df-db31b20b-13c5-4905-a1dc-48a32d9214f2 button.colab-df-convert');\n",
              "        buttonEl.style.display =\n",
              "          google.colab.kernel.accessAllowed ? 'block' : 'none';\n",
              "\n",
              "        async function convertToInteractive(key) {\n",
              "          const element = document.querySelector('#df-db31b20b-13c5-4905-a1dc-48a32d9214f2');\n",
              "          const dataTable =\n",
              "            await google.colab.kernel.invokeFunction('convertToInteractive',\n",
              "                                                     [key], {});\n",
              "          if (!dataTable) return;\n",
              "\n",
              "          const docLinkHtml = 'Like what you see? Visit the ' +\n",
              "            '<a target=\"_blank\" href=https://colab.research.google.com/notebooks/data_table.ipynb>data table notebook</a>'\n",
              "            + ' to learn more about interactive tables.';\n",
              "          element.innerHTML = '';\n",
              "          dataTable['output_type'] = 'display_data';\n",
              "          await google.colab.output.renderOutput(dataTable, element);\n",
              "          const docLink = document.createElement('div');\n",
              "          docLink.innerHTML = docLinkHtml;\n",
              "          element.appendChild(docLink);\n",
              "        }\n",
              "      </script>\n",
              "    </div>\n",
              "  </div>\n",
              "  "
            ]
          },
          "metadata": {},
          "execution_count": 4
        }
      ]
    },
    {
      "cell_type": "markdown",
      "source": [
        "### Selecting only 2 columns that are important for model building"
      ],
      "metadata": {
        "id": "uNnk4k-kQLdz"
      }
    },
    {
      "cell_type": "markdown",
      "source": [
        "BLOCK 4"
      ],
      "metadata": {
        "id": "cY_kX61j0d3Z"
      }
    },
    {
      "cell_type": "code",
      "source": [
        "data = data[['tweet_stopwords_removed', 'target']]\n",
        "#The code above selects only two columns from the original dataset 'data', \n",
        "#which are 'tweet_stopwords_removed' and 'target' and stores them as a new dataframe 'data'. \n",
        "#This is done to only keep the relevant data for the classification task.\n",
        "data"
      ],
      "metadata": {
        "colab": {
          "base_uri": "https://localhost:8080/",
          "height": 424
        },
        "id": "SsOUiHYmf0W1",
        "outputId": "a733bb4c-1c74-414c-ff7f-ee266e6e8bc8"
      },
      "execution_count": 5,
      "outputs": [
        {
          "output_type": "execute_result",
          "data": {
            "text/plain": [
              "                                 tweet_stopwords_removed  target\n",
              "0                brand new big flowdan email #horrorshow       0\n",
              "1                                   fuck bitch get money       1\n",
              "2      exactly n't gettin additional pussy soft ass t...       1\n",
              "3      niccas use like always tryn pull finesse duh n...       1\n",
              "4                                            karma bitch       1\n",
              "...                                                  ...     ...\n",
              "40211                                        dress ready       0\n",
              "40212  many bitch get rabies hate hoppin' woman #stan...       1\n",
              "40213  #lesmiserables gang ready westendlive #lesmise...       0\n",
              "40214                dumb ugly stupid bullshit ass bitch       1\n",
              "40215                                   bros hoe bro hoe       1\n",
              "\n",
              "[40216 rows x 2 columns]"
            ],
            "text/html": [
              "\n",
              "  <div id=\"df-15c1749d-f5f8-4f77-bafd-b99ec953f061\">\n",
              "    <div class=\"colab-df-container\">\n",
              "      <div>\n",
              "<style scoped>\n",
              "    .dataframe tbody tr th:only-of-type {\n",
              "        vertical-align: middle;\n",
              "    }\n",
              "\n",
              "    .dataframe tbody tr th {\n",
              "        vertical-align: top;\n",
              "    }\n",
              "\n",
              "    .dataframe thead th {\n",
              "        text-align: right;\n",
              "    }\n",
              "</style>\n",
              "<table border=\"1\" class=\"dataframe\">\n",
              "  <thead>\n",
              "    <tr style=\"text-align: right;\">\n",
              "      <th></th>\n",
              "      <th>tweet_stopwords_removed</th>\n",
              "      <th>target</th>\n",
              "    </tr>\n",
              "  </thead>\n",
              "  <tbody>\n",
              "    <tr>\n",
              "      <th>0</th>\n",
              "      <td>brand new big flowdan email #horrorshow</td>\n",
              "      <td>0</td>\n",
              "    </tr>\n",
              "    <tr>\n",
              "      <th>1</th>\n",
              "      <td>fuck bitch get money</td>\n",
              "      <td>1</td>\n",
              "    </tr>\n",
              "    <tr>\n",
              "      <th>2</th>\n",
              "      <td>exactly n't gettin additional pussy soft ass t...</td>\n",
              "      <td>1</td>\n",
              "    </tr>\n",
              "    <tr>\n",
              "      <th>3</th>\n",
              "      <td>niccas use like always tryn pull finesse duh n...</td>\n",
              "      <td>1</td>\n",
              "    </tr>\n",
              "    <tr>\n",
              "      <th>4</th>\n",
              "      <td>karma bitch</td>\n",
              "      <td>1</td>\n",
              "    </tr>\n",
              "    <tr>\n",
              "      <th>...</th>\n",
              "      <td>...</td>\n",
              "      <td>...</td>\n",
              "    </tr>\n",
              "    <tr>\n",
              "      <th>40211</th>\n",
              "      <td>dress ready</td>\n",
              "      <td>0</td>\n",
              "    </tr>\n",
              "    <tr>\n",
              "      <th>40212</th>\n",
              "      <td>many bitch get rabies hate hoppin' woman #stan...</td>\n",
              "      <td>1</td>\n",
              "    </tr>\n",
              "    <tr>\n",
              "      <th>40213</th>\n",
              "      <td>#lesmiserables gang ready westendlive #lesmise...</td>\n",
              "      <td>0</td>\n",
              "    </tr>\n",
              "    <tr>\n",
              "      <th>40214</th>\n",
              "      <td>dumb ugly stupid bullshit ass bitch</td>\n",
              "      <td>1</td>\n",
              "    </tr>\n",
              "    <tr>\n",
              "      <th>40215</th>\n",
              "      <td>bros hoe bro hoe</td>\n",
              "      <td>1</td>\n",
              "    </tr>\n",
              "  </tbody>\n",
              "</table>\n",
              "<p>40216 rows × 2 columns</p>\n",
              "</div>\n",
              "      <button class=\"colab-df-convert\" onclick=\"convertToInteractive('df-15c1749d-f5f8-4f77-bafd-b99ec953f061')\"\n",
              "              title=\"Convert this dataframe to an interactive table.\"\n",
              "              style=\"display:none;\">\n",
              "        \n",
              "  <svg xmlns=\"http://www.w3.org/2000/svg\" height=\"24px\"viewBox=\"0 0 24 24\"\n",
              "       width=\"24px\">\n",
              "    <path d=\"M0 0h24v24H0V0z\" fill=\"none\"/>\n",
              "    <path d=\"M18.56 5.44l.94 2.06.94-2.06 2.06-.94-2.06-.94-.94-2.06-.94 2.06-2.06.94zm-11 1L8.5 8.5l.94-2.06 2.06-.94-2.06-.94L8.5 2.5l-.94 2.06-2.06.94zm10 10l.94 2.06.94-2.06 2.06-.94-2.06-.94-.94-2.06-.94 2.06-2.06.94z\"/><path d=\"M17.41 7.96l-1.37-1.37c-.4-.4-.92-.59-1.43-.59-.52 0-1.04.2-1.43.59L10.3 9.45l-7.72 7.72c-.78.78-.78 2.05 0 2.83L4 21.41c.39.39.9.59 1.41.59.51 0 1.02-.2 1.41-.59l7.78-7.78 2.81-2.81c.8-.78.8-2.07 0-2.86zM5.41 20L4 18.59l7.72-7.72 1.47 1.35L5.41 20z\"/>\n",
              "  </svg>\n",
              "      </button>\n",
              "      \n",
              "  <style>\n",
              "    .colab-df-container {\n",
              "      display:flex;\n",
              "      flex-wrap:wrap;\n",
              "      gap: 12px;\n",
              "    }\n",
              "\n",
              "    .colab-df-convert {\n",
              "      background-color: #E8F0FE;\n",
              "      border: none;\n",
              "      border-radius: 50%;\n",
              "      cursor: pointer;\n",
              "      display: none;\n",
              "      fill: #1967D2;\n",
              "      height: 32px;\n",
              "      padding: 0 0 0 0;\n",
              "      width: 32px;\n",
              "    }\n",
              "\n",
              "    .colab-df-convert:hover {\n",
              "      background-color: #E2EBFA;\n",
              "      box-shadow: 0px 1px 2px rgba(60, 64, 67, 0.3), 0px 1px 3px 1px rgba(60, 64, 67, 0.15);\n",
              "      fill: #174EA6;\n",
              "    }\n",
              "\n",
              "    [theme=dark] .colab-df-convert {\n",
              "      background-color: #3B4455;\n",
              "      fill: #D2E3FC;\n",
              "    }\n",
              "\n",
              "    [theme=dark] .colab-df-convert:hover {\n",
              "      background-color: #434B5C;\n",
              "      box-shadow: 0px 1px 3px 1px rgba(0, 0, 0, 0.15);\n",
              "      filter: drop-shadow(0px 1px 2px rgba(0, 0, 0, 0.3));\n",
              "      fill: #FFFFFF;\n",
              "    }\n",
              "  </style>\n",
              "\n",
              "      <script>\n",
              "        const buttonEl =\n",
              "          document.querySelector('#df-15c1749d-f5f8-4f77-bafd-b99ec953f061 button.colab-df-convert');\n",
              "        buttonEl.style.display =\n",
              "          google.colab.kernel.accessAllowed ? 'block' : 'none';\n",
              "\n",
              "        async function convertToInteractive(key) {\n",
              "          const element = document.querySelector('#df-15c1749d-f5f8-4f77-bafd-b99ec953f061');\n",
              "          const dataTable =\n",
              "            await google.colab.kernel.invokeFunction('convertToInteractive',\n",
              "                                                     [key], {});\n",
              "          if (!dataTable) return;\n",
              "\n",
              "          const docLinkHtml = 'Like what you see? Visit the ' +\n",
              "            '<a target=\"_blank\" href=https://colab.research.google.com/notebooks/data_table.ipynb>data table notebook</a>'\n",
              "            + ' to learn more about interactive tables.';\n",
              "          element.innerHTML = '';\n",
              "          dataTable['output_type'] = 'display_data';\n",
              "          await google.colab.output.renderOutput(dataTable, element);\n",
              "          const docLink = document.createElement('div');\n",
              "          docLink.innerHTML = docLinkHtml;\n",
              "          element.appendChild(docLink);\n",
              "        }\n",
              "      </script>\n",
              "    </div>\n",
              "  </div>\n",
              "  "
            ]
          },
          "metadata": {},
          "execution_count": 5
        }
      ]
    },
    {
      "cell_type": "code",
      "source": [
        "# dropping null values\n",
        "data = data.dropna()\n",
        "data.reset_index(inplace=True, drop=True)\n",
        "data\n",
        "\n",
        "#This code drops any rows with missing values in the data dataframe, resets the index of the remaining rows, and displays the resulting dataframe. "
      ],
      "metadata": {
        "colab": {
          "base_uri": "https://localhost:8080/",
          "height": 424
        },
        "id": "pwZofmUfoijf",
        "outputId": "eeab627c-43b3-4831-f8d4-ddfeff593991"
      },
      "execution_count": 6,
      "outputs": [
        {
          "output_type": "execute_result",
          "data": {
            "text/plain": [
              "                                 tweet_stopwords_removed  target\n",
              "0                brand new big flowdan email #horrorshow       0\n",
              "1                                   fuck bitch get money       1\n",
              "2      exactly n't gettin additional pussy soft ass t...       1\n",
              "3      niccas use like always tryn pull finesse duh n...       1\n",
              "4                                            karma bitch       1\n",
              "...                                                  ...     ...\n",
              "40175                                        dress ready       0\n",
              "40176  many bitch get rabies hate hoppin' woman #stan...       1\n",
              "40177  #lesmiserables gang ready westendlive #lesmise...       0\n",
              "40178                dumb ugly stupid bullshit ass bitch       1\n",
              "40179                                   bros hoe bro hoe       1\n",
              "\n",
              "[40180 rows x 2 columns]"
            ],
            "text/html": [
              "\n",
              "  <div id=\"df-9e4d9fd6-9e9f-4944-9f4d-2f140f791954\">\n",
              "    <div class=\"colab-df-container\">\n",
              "      <div>\n",
              "<style scoped>\n",
              "    .dataframe tbody tr th:only-of-type {\n",
              "        vertical-align: middle;\n",
              "    }\n",
              "\n",
              "    .dataframe tbody tr th {\n",
              "        vertical-align: top;\n",
              "    }\n",
              "\n",
              "    .dataframe thead th {\n",
              "        text-align: right;\n",
              "    }\n",
              "</style>\n",
              "<table border=\"1\" class=\"dataframe\">\n",
              "  <thead>\n",
              "    <tr style=\"text-align: right;\">\n",
              "      <th></th>\n",
              "      <th>tweet_stopwords_removed</th>\n",
              "      <th>target</th>\n",
              "    </tr>\n",
              "  </thead>\n",
              "  <tbody>\n",
              "    <tr>\n",
              "      <th>0</th>\n",
              "      <td>brand new big flowdan email #horrorshow</td>\n",
              "      <td>0</td>\n",
              "    </tr>\n",
              "    <tr>\n",
              "      <th>1</th>\n",
              "      <td>fuck bitch get money</td>\n",
              "      <td>1</td>\n",
              "    </tr>\n",
              "    <tr>\n",
              "      <th>2</th>\n",
              "      <td>exactly n't gettin additional pussy soft ass t...</td>\n",
              "      <td>1</td>\n",
              "    </tr>\n",
              "    <tr>\n",
              "      <th>3</th>\n",
              "      <td>niccas use like always tryn pull finesse duh n...</td>\n",
              "      <td>1</td>\n",
              "    </tr>\n",
              "    <tr>\n",
              "      <th>4</th>\n",
              "      <td>karma bitch</td>\n",
              "      <td>1</td>\n",
              "    </tr>\n",
              "    <tr>\n",
              "      <th>...</th>\n",
              "      <td>...</td>\n",
              "      <td>...</td>\n",
              "    </tr>\n",
              "    <tr>\n",
              "      <th>40175</th>\n",
              "      <td>dress ready</td>\n",
              "      <td>0</td>\n",
              "    </tr>\n",
              "    <tr>\n",
              "      <th>40176</th>\n",
              "      <td>many bitch get rabies hate hoppin' woman #stan...</td>\n",
              "      <td>1</td>\n",
              "    </tr>\n",
              "    <tr>\n",
              "      <th>40177</th>\n",
              "      <td>#lesmiserables gang ready westendlive #lesmise...</td>\n",
              "      <td>0</td>\n",
              "    </tr>\n",
              "    <tr>\n",
              "      <th>40178</th>\n",
              "      <td>dumb ugly stupid bullshit ass bitch</td>\n",
              "      <td>1</td>\n",
              "    </tr>\n",
              "    <tr>\n",
              "      <th>40179</th>\n",
              "      <td>bros hoe bro hoe</td>\n",
              "      <td>1</td>\n",
              "    </tr>\n",
              "  </tbody>\n",
              "</table>\n",
              "<p>40180 rows × 2 columns</p>\n",
              "</div>\n",
              "      <button class=\"colab-df-convert\" onclick=\"convertToInteractive('df-9e4d9fd6-9e9f-4944-9f4d-2f140f791954')\"\n",
              "              title=\"Convert this dataframe to an interactive table.\"\n",
              "              style=\"display:none;\">\n",
              "        \n",
              "  <svg xmlns=\"http://www.w3.org/2000/svg\" height=\"24px\"viewBox=\"0 0 24 24\"\n",
              "       width=\"24px\">\n",
              "    <path d=\"M0 0h24v24H0V0z\" fill=\"none\"/>\n",
              "    <path d=\"M18.56 5.44l.94 2.06.94-2.06 2.06-.94-2.06-.94-.94-2.06-.94 2.06-2.06.94zm-11 1L8.5 8.5l.94-2.06 2.06-.94-2.06-.94L8.5 2.5l-.94 2.06-2.06.94zm10 10l.94 2.06.94-2.06 2.06-.94-2.06-.94-.94-2.06-.94 2.06-2.06.94z\"/><path d=\"M17.41 7.96l-1.37-1.37c-.4-.4-.92-.59-1.43-.59-.52 0-1.04.2-1.43.59L10.3 9.45l-7.72 7.72c-.78.78-.78 2.05 0 2.83L4 21.41c.39.39.9.59 1.41.59.51 0 1.02-.2 1.41-.59l7.78-7.78 2.81-2.81c.8-.78.8-2.07 0-2.86zM5.41 20L4 18.59l7.72-7.72 1.47 1.35L5.41 20z\"/>\n",
              "  </svg>\n",
              "      </button>\n",
              "      \n",
              "  <style>\n",
              "    .colab-df-container {\n",
              "      display:flex;\n",
              "      flex-wrap:wrap;\n",
              "      gap: 12px;\n",
              "    }\n",
              "\n",
              "    .colab-df-convert {\n",
              "      background-color: #E8F0FE;\n",
              "      border: none;\n",
              "      border-radius: 50%;\n",
              "      cursor: pointer;\n",
              "      display: none;\n",
              "      fill: #1967D2;\n",
              "      height: 32px;\n",
              "      padding: 0 0 0 0;\n",
              "      width: 32px;\n",
              "    }\n",
              "\n",
              "    .colab-df-convert:hover {\n",
              "      background-color: #E2EBFA;\n",
              "      box-shadow: 0px 1px 2px rgba(60, 64, 67, 0.3), 0px 1px 3px 1px rgba(60, 64, 67, 0.15);\n",
              "      fill: #174EA6;\n",
              "    }\n",
              "\n",
              "    [theme=dark] .colab-df-convert {\n",
              "      background-color: #3B4455;\n",
              "      fill: #D2E3FC;\n",
              "    }\n",
              "\n",
              "    [theme=dark] .colab-df-convert:hover {\n",
              "      background-color: #434B5C;\n",
              "      box-shadow: 0px 1px 3px 1px rgba(0, 0, 0, 0.15);\n",
              "      filter: drop-shadow(0px 1px 2px rgba(0, 0, 0, 0.3));\n",
              "      fill: #FFFFFF;\n",
              "    }\n",
              "  </style>\n",
              "\n",
              "      <script>\n",
              "        const buttonEl =\n",
              "          document.querySelector('#df-9e4d9fd6-9e9f-4944-9f4d-2f140f791954 button.colab-df-convert');\n",
              "        buttonEl.style.display =\n",
              "          google.colab.kernel.accessAllowed ? 'block' : 'none';\n",
              "\n",
              "        async function convertToInteractive(key) {\n",
              "          const element = document.querySelector('#df-9e4d9fd6-9e9f-4944-9f4d-2f140f791954');\n",
              "          const dataTable =\n",
              "            await google.colab.kernel.invokeFunction('convertToInteractive',\n",
              "                                                     [key], {});\n",
              "          if (!dataTable) return;\n",
              "\n",
              "          const docLinkHtml = 'Like what you see? Visit the ' +\n",
              "            '<a target=\"_blank\" href=https://colab.research.google.com/notebooks/data_table.ipynb>data table notebook</a>'\n",
              "            + ' to learn more about interactive tables.';\n",
              "          element.innerHTML = '';\n",
              "          dataTable['output_type'] = 'display_data';\n",
              "          await google.colab.output.renderOutput(dataTable, element);\n",
              "          const docLink = document.createElement('div');\n",
              "          docLink.innerHTML = docLinkHtml;\n",
              "          element.appendChild(docLink);\n",
              "        }\n",
              "      </script>\n",
              "    </div>\n",
              "  </div>\n",
              "  "
            ]
          },
          "metadata": {},
          "execution_count": 6
        }
      ]
    },
    {
      "cell_type": "code",
      "source": [
        "data.isna().sum()\n",
        "#checking for any na values using isna() and sum() and the results are 0"
      ],
      "metadata": {
        "colab": {
          "base_uri": "https://localhost:8080/"
        },
        "id": "gme5uYH5omUv",
        "outputId": "e1bfb39a-e62d-48e2-ebeb-b67079fbc126"
      },
      "execution_count": 7,
      "outputs": [
        {
          "output_type": "execute_result",
          "data": {
            "text/plain": [
              "tweet_stopwords_removed    0\n",
              "target                     0\n",
              "dtype: int64"
            ]
          },
          "metadata": {},
          "execution_count": 7
        }
      ]
    },
    {
      "cell_type": "code",
      "source": [
        "print(len(data[data['target'] == 1]))\n",
        "print(len(data[data['target'] == 0]))\n",
        "\n",
        "#This code is printing the number of tweets in the dataset that are labeled as target 1 \n",
        "# and target 0 respectively. \n",
        "#It is useful to check the class distribution of the dataset and ensure that there are a roughly equal number of examples in each class \n",
        "#to avoid bias in the model's predictions."
      ],
      "metadata": {
        "colab": {
          "base_uri": "https://localhost:8080/"
        },
        "id": "R_iMSORVN00B",
        "outputId": "6b1e800c-3e00-4829-c781-56120d122c22"
      },
      "execution_count": 8,
      "outputs": [
        {
          "output_type": "stream",
          "name": "stdout",
          "text": [
            "20603\n",
            "19577\n"
          ]
        }
      ]
    },
    {
      "cell_type": "code",
      "source": [
        "df = data.copy()\n",
        "#copying the data dataframe into df dataframe\n",
        "df"
      ],
      "metadata": {
        "colab": {
          "base_uri": "https://localhost:8080/",
          "height": 424
        },
        "id": "oFaFKyBEymNF",
        "outputId": "912fbf85-8e56-479c-897c-8d6482ded124"
      },
      "execution_count": 9,
      "outputs": [
        {
          "output_type": "execute_result",
          "data": {
            "text/plain": [
              "                                 tweet_stopwords_removed  target\n",
              "0                brand new big flowdan email #horrorshow       0\n",
              "1                                   fuck bitch get money       1\n",
              "2      exactly n't gettin additional pussy soft ass t...       1\n",
              "3      niccas use like always tryn pull finesse duh n...       1\n",
              "4                                            karma bitch       1\n",
              "...                                                  ...     ...\n",
              "40175                                        dress ready       0\n",
              "40176  many bitch get rabies hate hoppin' woman #stan...       1\n",
              "40177  #lesmiserables gang ready westendlive #lesmise...       0\n",
              "40178                dumb ugly stupid bullshit ass bitch       1\n",
              "40179                                   bros hoe bro hoe       1\n",
              "\n",
              "[40180 rows x 2 columns]"
            ],
            "text/html": [
              "\n",
              "  <div id=\"df-a8d47ea9-0a70-4ad9-85b8-fb1a50a74902\">\n",
              "    <div class=\"colab-df-container\">\n",
              "      <div>\n",
              "<style scoped>\n",
              "    .dataframe tbody tr th:only-of-type {\n",
              "        vertical-align: middle;\n",
              "    }\n",
              "\n",
              "    .dataframe tbody tr th {\n",
              "        vertical-align: top;\n",
              "    }\n",
              "\n",
              "    .dataframe thead th {\n",
              "        text-align: right;\n",
              "    }\n",
              "</style>\n",
              "<table border=\"1\" class=\"dataframe\">\n",
              "  <thead>\n",
              "    <tr style=\"text-align: right;\">\n",
              "      <th></th>\n",
              "      <th>tweet_stopwords_removed</th>\n",
              "      <th>target</th>\n",
              "    </tr>\n",
              "  </thead>\n",
              "  <tbody>\n",
              "    <tr>\n",
              "      <th>0</th>\n",
              "      <td>brand new big flowdan email #horrorshow</td>\n",
              "      <td>0</td>\n",
              "    </tr>\n",
              "    <tr>\n",
              "      <th>1</th>\n",
              "      <td>fuck bitch get money</td>\n",
              "      <td>1</td>\n",
              "    </tr>\n",
              "    <tr>\n",
              "      <th>2</th>\n",
              "      <td>exactly n't gettin additional pussy soft ass t...</td>\n",
              "      <td>1</td>\n",
              "    </tr>\n",
              "    <tr>\n",
              "      <th>3</th>\n",
              "      <td>niccas use like always tryn pull finesse duh n...</td>\n",
              "      <td>1</td>\n",
              "    </tr>\n",
              "    <tr>\n",
              "      <th>4</th>\n",
              "      <td>karma bitch</td>\n",
              "      <td>1</td>\n",
              "    </tr>\n",
              "    <tr>\n",
              "      <th>...</th>\n",
              "      <td>...</td>\n",
              "      <td>...</td>\n",
              "    </tr>\n",
              "    <tr>\n",
              "      <th>40175</th>\n",
              "      <td>dress ready</td>\n",
              "      <td>0</td>\n",
              "    </tr>\n",
              "    <tr>\n",
              "      <th>40176</th>\n",
              "      <td>many bitch get rabies hate hoppin' woman #stan...</td>\n",
              "      <td>1</td>\n",
              "    </tr>\n",
              "    <tr>\n",
              "      <th>40177</th>\n",
              "      <td>#lesmiserables gang ready westendlive #lesmise...</td>\n",
              "      <td>0</td>\n",
              "    </tr>\n",
              "    <tr>\n",
              "      <th>40178</th>\n",
              "      <td>dumb ugly stupid bullshit ass bitch</td>\n",
              "      <td>1</td>\n",
              "    </tr>\n",
              "    <tr>\n",
              "      <th>40179</th>\n",
              "      <td>bros hoe bro hoe</td>\n",
              "      <td>1</td>\n",
              "    </tr>\n",
              "  </tbody>\n",
              "</table>\n",
              "<p>40180 rows × 2 columns</p>\n",
              "</div>\n",
              "      <button class=\"colab-df-convert\" onclick=\"convertToInteractive('df-a8d47ea9-0a70-4ad9-85b8-fb1a50a74902')\"\n",
              "              title=\"Convert this dataframe to an interactive table.\"\n",
              "              style=\"display:none;\">\n",
              "        \n",
              "  <svg xmlns=\"http://www.w3.org/2000/svg\" height=\"24px\"viewBox=\"0 0 24 24\"\n",
              "       width=\"24px\">\n",
              "    <path d=\"M0 0h24v24H0V0z\" fill=\"none\"/>\n",
              "    <path d=\"M18.56 5.44l.94 2.06.94-2.06 2.06-.94-2.06-.94-.94-2.06-.94 2.06-2.06.94zm-11 1L8.5 8.5l.94-2.06 2.06-.94-2.06-.94L8.5 2.5l-.94 2.06-2.06.94zm10 10l.94 2.06.94-2.06 2.06-.94-2.06-.94-.94-2.06-.94 2.06-2.06.94z\"/><path d=\"M17.41 7.96l-1.37-1.37c-.4-.4-.92-.59-1.43-.59-.52 0-1.04.2-1.43.59L10.3 9.45l-7.72 7.72c-.78.78-.78 2.05 0 2.83L4 21.41c.39.39.9.59 1.41.59.51 0 1.02-.2 1.41-.59l7.78-7.78 2.81-2.81c.8-.78.8-2.07 0-2.86zM5.41 20L4 18.59l7.72-7.72 1.47 1.35L5.41 20z\"/>\n",
              "  </svg>\n",
              "      </button>\n",
              "      \n",
              "  <style>\n",
              "    .colab-df-container {\n",
              "      display:flex;\n",
              "      flex-wrap:wrap;\n",
              "      gap: 12px;\n",
              "    }\n",
              "\n",
              "    .colab-df-convert {\n",
              "      background-color: #E8F0FE;\n",
              "      border: none;\n",
              "      border-radius: 50%;\n",
              "      cursor: pointer;\n",
              "      display: none;\n",
              "      fill: #1967D2;\n",
              "      height: 32px;\n",
              "      padding: 0 0 0 0;\n",
              "      width: 32px;\n",
              "    }\n",
              "\n",
              "    .colab-df-convert:hover {\n",
              "      background-color: #E2EBFA;\n",
              "      box-shadow: 0px 1px 2px rgba(60, 64, 67, 0.3), 0px 1px 3px 1px rgba(60, 64, 67, 0.15);\n",
              "      fill: #174EA6;\n",
              "    }\n",
              "\n",
              "    [theme=dark] .colab-df-convert {\n",
              "      background-color: #3B4455;\n",
              "      fill: #D2E3FC;\n",
              "    }\n",
              "\n",
              "    [theme=dark] .colab-df-convert:hover {\n",
              "      background-color: #434B5C;\n",
              "      box-shadow: 0px 1px 3px 1px rgba(0, 0, 0, 0.15);\n",
              "      filter: drop-shadow(0px 1px 2px rgba(0, 0, 0, 0.3));\n",
              "      fill: #FFFFFF;\n",
              "    }\n",
              "  </style>\n",
              "\n",
              "      <script>\n",
              "        const buttonEl =\n",
              "          document.querySelector('#df-a8d47ea9-0a70-4ad9-85b8-fb1a50a74902 button.colab-df-convert');\n",
              "        buttonEl.style.display =\n",
              "          google.colab.kernel.accessAllowed ? 'block' : 'none';\n",
              "\n",
              "        async function convertToInteractive(key) {\n",
              "          const element = document.querySelector('#df-a8d47ea9-0a70-4ad9-85b8-fb1a50a74902');\n",
              "          const dataTable =\n",
              "            await google.colab.kernel.invokeFunction('convertToInteractive',\n",
              "                                                     [key], {});\n",
              "          if (!dataTable) return;\n",
              "\n",
              "          const docLinkHtml = 'Like what you see? Visit the ' +\n",
              "            '<a target=\"_blank\" href=https://colab.research.google.com/notebooks/data_table.ipynb>data table notebook</a>'\n",
              "            + ' to learn more about interactive tables.';\n",
              "          element.innerHTML = '';\n",
              "          dataTable['output_type'] = 'display_data';\n",
              "          await google.colab.output.renderOutput(dataTable, element);\n",
              "          const docLink = document.createElement('div');\n",
              "          docLink.innerHTML = docLinkHtml;\n",
              "          element.appendChild(docLink);\n",
              "        }\n",
              "      </script>\n",
              "    </div>\n",
              "  </div>\n",
              "  "
            ]
          },
          "metadata": {},
          "execution_count": 9
        }
      ]
    },
    {
      "cell_type": "markdown",
      "source": [
        "## Splitting train, test, val datasets"
      ],
      "metadata": {
        "id": "-jtMTyQVQZO6"
      }
    },
    {
      "cell_type": "markdown",
      "source": [
        "BLOCK 5"
      ],
      "metadata": {
        "id": "ZHADxoi11kL6"
      }
    },
    {
      "cell_type": "code",
      "source": [
        "train, val, test = np.split(df.sample(frac=1), [int(0.8*len(df)), int(0.9*len(df))])\n",
        "#This code is splitting the DataFrame df into three subsets: training set, validation set, and test set using the np.split function from NumPy.\n",
        "#The sample function with frac=1 argument shuffles the rows of df randomly and returns the entire shuffled DataFrame. \n",
        "#The first split is at 80% of the total length of the shuffled DataFrame df, \n",
        "#the second split is at 90% of the total length of the shuffled DataFrame df, and the remaining rows become the test set.\n",
        "#The resulting subsets are assigned to the variables train, val, and test, respectively."
      ],
      "metadata": {
        "id": "Wcm82VK6xVW0"
      },
      "execution_count": 10,
      "outputs": []
    },
    {
      "cell_type": "code",
      "source": [
        "print(len(train), 'training examples')\n",
        "print(len(val), 'validation examples')\n",
        "print(len(test), 'test examples')\n",
        "\n",
        "#The code prints the number of examples in the training, validation, and test sets, respectively. \n",
        "#It is used to verify that the dataset has been split correctly into the three subsets."
      ],
      "metadata": {
        "colab": {
          "base_uri": "https://localhost:8080/"
        },
        "id": "gai4tjg2y7Al",
        "outputId": "40413166-93d7-4b79-be6c-b0d67ddfae0f"
      },
      "execution_count": 11,
      "outputs": [
        {
          "output_type": "stream",
          "name": "stdout",
          "text": [
            "32144 training examples\n",
            "4018 validation examples\n",
            "4018 test examples\n"
          ]
        }
      ]
    },
    {
      "cell_type": "markdown",
      "source": [
        "### Preparing dataset for model"
      ],
      "metadata": {
        "id": "SO8Srh5_Q3ei"
      }
    },
    {
      "cell_type": "markdown",
      "source": [
        "BLOCK 6"
      ],
      "metadata": {
        "id": "VuoGIijX19IE"
      }
    },
    {
      "cell_type": "code",
      "source": [
        "#This is a function definition for df_to_dataset that takes three parameters - \n",
        "#the input dataframe df, a boolean flag shuffle to indicate whether or not to shuffle the data, \n",
        "#and an integer batch_size to determine the batch size for the dataset.\n",
        "def df_to_dataset(df, shuffle=True, batch_size=256):\n",
        "  df = df.copy()\n",
        "  labels = df.pop('target')\n",
        "  df = df['tweet_stopwords_removed']\n",
        "  #This makes a copy of the input dataframe and saves the target column as the labels. \n",
        "  #The df variable is then set to only include the tweet_stopwords_removed column.\n",
        "  ds = tf.data.Dataset.from_tensor_slices((df, labels))\n",
        "  #This creates a TensorFlow dataset from the input dataframe and the labels. \n",
        "  #The from_tensor_slices method creates a dataset with one element for each row in the input dataframe.\n",
        "  if shuffle:\n",
        "    ds = ds.shuffle(buffer_size=len(df))\n",
        "    #If shuffle is True, this shuffles the dataset using the shuffle method and a buffer size of the length of the dataframe.\n",
        "  ds = ds.batch(batch_size)\n",
        "  #This batches the dataset using the batch method and the batch_size parameter.\n",
        "  ds = ds.prefetch(tf.data.AUTOTUNE)\n",
        "  #This uses the prefetch method to asynchronously fetch batches while the model is training to optimize performance.\n",
        "  return ds"
      ],
      "metadata": {
        "id": "zwP_uquPzD9l"
      },
      "execution_count": 12,
      "outputs": []
    },
    {
      "cell_type": "code",
      "source": [
        "train_data= df_to_dataset(train)\n",
        "#train_data variable is assigned the result of calling the df_to_dataset() function with the train DataFrame as an argument, \n",
        "#which converts the DataFrame into a TensorFlow dataset with inputs as tweet_stopwords_removed and output as target and sets some additional parameters \n",
        "#like shuffle and batch_size.\n",
        "val_data= df_to_dataset(val)\n",
        "#val_data variable is assigned the result of calling the df_to_dataset() function with the val DataFrame as an argument, \n",
        "#which converts the DataFrame into a TensorFlow dataset with inputs as tweet_stopwords_removed and output as target and sets some additional parameters \n",
        "#like shuffle and batch_size.\n",
        "test_data= df_to_dataset(test)\n",
        "#test_data: This variable is assigned the result of calling the df_to_dataset() function with the test DataFrame as an argument, \n",
        "#which converts the DataFrame into a TensorFlow dataset with inputs as tweet_stopwords_removed and output as target and sets some additional parameters \n",
        "#like shuffle and batch_size."
      ],
      "metadata": {
        "id": "DNMVqv040Iif"
      },
      "execution_count": 13,
      "outputs": []
    },
    {
      "cell_type": "code",
      "source": [
        "list(train_data)[0]\n",
        "#This code outputs the first batch of data from the train_data dataset"
      ],
      "metadata": {
        "colab": {
          "base_uri": "https://localhost:8080/"
        },
        "id": "HGSRkWOP02H8",
        "outputId": "3ecda669-7a05-42f1-ce75-4b0a709b04f5"
      },
      "execution_count": 14,
      "outputs": [
        {
          "output_type": "execute_result",
          "data": {
            "text/plain": [
              "(<tf.Tensor: shape=(256,), dtype=string, numpy=\n",
              " array([b'#juicing experience #notsobad #healthyliving #eatclean #fitness #cook #yummy #mamasgotanewtoy',\n",
              "        b'figure #riggedprimary',\n",
              "        b'powerful share guilt alive patience caer survivor #orlandoshooting',\n",
              "        b'#womenwhofarm #farmbitch harvest', b\"i'm vipperloid bitch\",\n",
              "        b'hope address attempt contain nutty conspiracy gaslighting suppoers',\n",
              "        b'youzza bitch',\n",
              "        b'female constantly tweet boyfriend wish death one tire bitch',\n",
              "        b'one jump conversation smelly ass bitch fuck thats',\n",
              "        b'beautiful girl world #brunomars', b'miss faggot',\n",
              "        b'clip last night look sound great look forward show birmingham saturday',\n",
              "        b\"inside i'm #jumpingjacks book another #voiceover yay super\",\n",
              "        b'datsyuk always favorite red wing man one year #goingtomisshim',\n",
              "        b'check #simple #tip #life #happiness #happinesseverywhere #happinessequation #lifestyle',\n",
              "        b'bobby bitch bobby bitch',\n",
              "        b'#lebron rebound almost game #decline #nbafinals #cavswarriors',\n",
              "        b\"n't take ass tell bitch pass\", b'look like delivery bitch ahaha',\n",
              "        b'#sundayroast today', b'kill beaner',\n",
              "        b'back square one bitch weed lotta hang ovum',\n",
              "        b'happy moment family #family #myfamily family moment #instalike',\n",
              "        b\"street n't hoe everybody get someone real hold\",\n",
              "        b'may finally get first event january royal rumble',\n",
              "        b'three generation bihday huddle #bihday #love #family',\n",
              "        b'could never bring bitch nigga wear everybody else shit like broke amp bummy fuccing boof',\n",
              "        b\"i've leave fitbit american football coach n't see week #fitbit\",\n",
              "        b'fuck bitch get money', b'get ticket #epsomedge daystogo',\n",
              "        b\"aint special niglet i'm chill wit greg ppl walk ask take pic hatin\",\n",
              "        b'see picture smoke man god disgraceful nig sir embarrassment',\n",
              "        b'fucc droppin song gon drop mixtape nicca',\n",
              "        b'call #bitchassness nicca tell female another man get mad girl throwin salt man gay straight',\n",
              "        b'happy fathersday superheroes rockstars #fathersday #rockstar #superhero #dad',\n",
              "        b\"wonderful grad weekend i'm lucky girl amazing people life #mpa #graduation #psu #love\",\n",
              "        b\"fag that's gay ass shit\", b'seven digit niggas two comma hoe',\n",
              "        b'holy shit freddie highmore charlie chocolate factory roll floor laughing',\n",
              "        b\"bruh always sooooooooooooooo tired never sleep i'm like new specie retard disrespect\",\n",
              "        b\"know bitch sell pussy for's\",\n",
              "        b'place #lovesummer #beach #swim #sunandsand #getfit #bikini',\n",
              "        b\"niggas wifing hoe amp ugly bitch get facebook remind i'm fine\",\n",
              "        b'matter hard life get anon #inspiration #gratitude #quote #inspirational',\n",
              "        b\"#real n't tell hoe i'm happy\", b'comment low key',\n",
              "        b'#outllook aud nzd towards westpac #blog #silver #gold #forex',\n",
              "        b'fight night tonight cotto smack pompous cunt front million #mayweathercotto',\n",
              "        b'word zero hoe',\n",
              "        b'single #akuharusapa chekidot youtube #song #hea #love #brokenhea #beautiful',\n",
              "        b'tragedy america first killing #christinagrimmie #orlando #america safe place today',\n",
              "        b'live stream staed #trailheadx #punedug', b'gtfoh bitch ass ref',\n",
              "        b\"fight sexism call pigwoman he's get special victim class shield\",\n",
              "        b'jenna stay pimpin hoe',\n",
              "        b'nah think bitch lol didnt know peter girl one lmao',\n",
              "        b'tired mom make stay finish drink another beer good chug shit',\n",
              "        b'kendrick lamar say call bitch bitch hoe hoe woman woman know onto something pre',\n",
              "        b'give head amp kiss bitch ill nigga', b\"n't trust hoe fam\",\n",
              "        b'twin get pussy ate',\n",
              "        b'monkey around #spidermonkey #naturalhabitat #nature',\n",
              "        b'congratulation',\n",
              "        b'#river gorilla simulator need adapt environment need tear city material',\n",
              "        b'hoe thirsty attention',\n",
              "        b'mannn mexican houston love high school freshman hoe',\n",
              "        b'hate see nice fee wit weak nigga like girl retard sumn uon know cud',\n",
              "        b'make decision inside magnetize life #happine',\n",
              "        b\"i've get bottle lovely owe retweet dear show\", b'love',\n",
              "        b'happy announce already opening date new location jun #coralway',\n",
              "        b'lose #dance amp',\n",
              "        b'nigga stop hatin bitch feelin coolio two think dem bitch make nigga get back smokin big worm shit',\n",
              "        b'baddest bitch school walk',\n",
              "        b'child attack alligator walt disney world #waltdisneyworld',\n",
              "        b\"n't love hoe\", b\"g's hoe motherfucker bounce\",\n",
              "        b\"quotable man n't appreciate pussy definitely gon end another nigga mouth\",\n",
              "        b'maybe fast forward skip week holiday glass two red wine enjoy #hurryup',\n",
              "        b'#tragic #story #brave #little #girl',\n",
              "        b'show animal every bit emotional amp capable emotion human',\n",
              "        b'make planet #rawfoheoceans',\n",
              "        b'look like welfare bitch compare latinas date fuck need fashion makeup tip tbh',\n",
              "        b'miss wee cheeky cunt sad time #missabby',\n",
              "        b\"aye hoe start come n't forget put n't\",\n",
              "        b'berlin thank much incredible #theriveourberlin #theboss',\n",
              "        b'livelypics psychology claim two past lover remain friends either still love never',\n",
              "        b'today day make change eliminate negativity choose live positive lifestyle instead',\n",
              "        b'boy wat dat bitch eatin lunch err day tellin',\n",
              "        b'bitch read wtf put', b'take serious kik back nigger',\n",
              "        b'much look forward head firenze pitti uomo tomorrow #pitti #pittiuomo #firenze #eyewear #fashion',\n",
              "        b'lil bit bitch', b\"real mvp that's wat bitch say finish\",\n",
              "        b\"people think gay marriage okay beyond sorry n't want future son see fag walk street hold hand\",\n",
              "        b\"i'm sure emergency schedule snafu keep use acquire ticket #muhammadali\",\n",
              "        b'give move lil nigger push smh',\n",
              "        b\"problem troll always old old they're never original witty there's spark joie vivre\",\n",
              "        b'#day #tomhiddleston', b'shimmy shimmy bitch',\n",
              "        b'make proud feel well #makeamericahate thank rube today #alwaystrump',\n",
              "        b'best lee bongkeun miss #farewell #bos #cheilmalaysia #fun',\n",
              "        b'finally make home best friend #bestfriends #cat #catlover #pet #catlady #love #garfield',\n",
              "        b\"bad bitch let's get right away\", b'nelly get hoe singin lol',\n",
              "        b'get wild bitch tellin lie',\n",
              "        b'another week come close #success #thrive #makeithappen #ilovejax #jax',\n",
              "        b'come never bring food dont car retard',\n",
              "        b'idk give bitch name idk give bitch name number anti captain sav',\n",
              "        b'repo plus madtown buffy make lone appearance bihday pay #madtown #buffy #bihday',\n",
              "        b'uberrush demand delivery network friday',\n",
              "        b'nicer easy hurt bitch',\n",
              "        b\"today's day wales england #togetherstronger #cmoncymru\",\n",
              "        b'congrats snapchat scavenger hunt winner follow contest snapchat #stancofair',\n",
              "        b'push bitch car like gucci mane bitch',\n",
              "        b'give bih son lose weight sta get ass probably act like hoe would get respect man',\n",
              "        b'old bitch hoe', b'bitch foh',\n",
              "        b'wiz khalifa influential rapper era seem forget trend nigguh start',\n",
              "        b\"get see hoe person cause i'm sleep hoe\",\n",
              "        b\"yall gimp n't tht bitch huh lol\",\n",
              "        b'take long time text back hoe',\n",
              "        b'red red #instagood #me #dress #cute #follow #followme #photooftheday',\n",
              "        b'incredible new company even launch detail #maelle',\n",
              "        b'hope bitch prepare aftermath', b'whitey gots pay preparation',\n",
              "        b\"fucking little bitch land car really think would n't kill\",\n",
              "        b\"finally notice parent anxiety n't admit #indenial\",\n",
              "        b'#love #chill #miss #amazing #day tioman island',\n",
              "        b'ass little twat',\n",
              "        b'common sense common voltaire #give #joy #life #motivate #inspire #write #motivate',\n",
              "        b'get dress leave house keep dance boogie wonderland #danceitout',\n",
              "        b'love hoes like omg warp tour yayyyyy #gaaaaaaaaaaaay',\n",
              "        b'fav pic mean hoe',\n",
              "        b'feel proud #determination #gym #gettingfitter #gettingfit #fitness #sprinttriatholon',\n",
              "        b'sad day cherry tree window garden france school #bulldoze #progress',\n",
              "        b'thankful able learn #thankful #positive',\n",
              "        b\"i'm surprise could read slit eye\",\n",
              "        b'new selfie #guy #mato #chapones',\n",
              "        b\"cavs game plan work i'm srry nba game plan work suspend green cavs win smh pathetic #nbafinals\",\n",
              "        b'monthsary jadine love', b'love stripper bitch',\n",
              "        b'dare watch video without dance #dance #joy',\n",
              "        b\"meet fella want brexit could n't come anything apa we're'great' britain amp many migrant\",\n",
              "        b'best #essentialoils #weightloss #altwaystoheal #healthy',\n",
              "        b'hey donald look weak every day #small frustrated #loser #pathetic #weakdonaldtrump #boringdonald',\n",
              "        b'ugly gay nigga bitch fuck peace shit', b'get kick macklemore',\n",
              "        b\"champion trophy coach roelant oltmans happy india's next gen hockey player london india's\",\n",
              "        b\"know get money low key hang street niccas fukn wit og's\",\n",
              "        b'#otd last kind die dusky seaside sparrow become extinct',\n",
              "        b'need think positive need sta think good thing',\n",
              "        b\"good luck today roger i'm see back healthy #winthisthing\",\n",
              "        b'massive shooting normal infographic survive one',\n",
              "        b'attempt czech fury croatia score second',\n",
              "        b\"n't make wait another fifty minute #run #positive #remain\",\n",
              "        b'never ordinary #saturday', b'documentary',\n",
              "        b'bitch fuck fuck brandeis connor fuck connor fuck brandeis kid town helotes flex bitch',\n",
              "        b'journalism impaially without personal bias unfounately many seem lack capacity',\n",
              "        b'like bitch simple lay back relax mental',\n",
              "        b\"save snapchats tom send think they're cute\",\n",
              "        b\"last tweet song lyric n't really like bad bitch like pretty chick bad bitch cheat easily often\",\n",
              "        b'get patience hoe actin lame ima stop fuckin wit ass quick asl',\n",
              "        b'#lstv nice unbiased channel hijack modi govt malign image opposition leader',\n",
              "        b'hibiscus cooler chill #hibiscustea #hibiscus #pomegranate #fruit #tea #chill',\n",
              "        b'mom really get car smh hoe dat',\n",
              "        b'#happiness every food perfect gift come father',\n",
              "        b'lashontae bad bitch time',\n",
              "        b'washout flood good take set another day golf', b\"father's day\",\n",
              "        b'rambo bout flex hoe',\n",
              "        b\"happy father's day #fathersday fathersday #memory #memory #family\",\n",
              "        b'hoe hoe nothing something guy dispose #truthbetold',\n",
              "        b\"homeboy get hoe number house arrest say that's good n't ask anywhere\",\n",
              "        b\"let say clearly since retarded ass n't understand\",\n",
              "        b\"that's lil nigga middle lock wid bitch\",\n",
              "        b'#bihdaybash #atlanta love see lady #newhair get #formation',\n",
              "        b'time #vlicobs #xoxo #love #grace #amen #share #passion #church #life #god #purpose',\n",
              "        b'make', b'anxiety bitch', b'check',\n",
              "        b'skippin spanish class rest week fuck dat bitch',\n",
              "        b'min guy till podcast amp #youtuber #live #nervous',\n",
              "        b'faggot use uber real nigga drive drunk',\n",
              "        b'sex amp city paint good morning #sexandthecity',\n",
              "        b'create new material actually bad thing ever want die #composition #music #creativity #time #sibelius #cold #tire',\n",
              "        b'bird would person shit',\n",
              "        b'like page badass motivational quote #inspirationalquotes',\n",
              "        b'damn think hit never get another new awesome #mohammedali quote wow #ripchamp',\n",
              "        b'loud jamaican horn still single yall find ugly hoe attractive',\n",
              "        b'shadow #socialanxiety #selfharming #suicide #suicidal #depression #depressed #pain #wohless #fat',\n",
              "        b'slut whore hoe', b'kitten would get hate mail #uneducated',\n",
              "        b'source #inspiration ideal #my #lyf #baba father day',\n",
              "        b\"school seem boring tomorrow coz n't happy pill\",\n",
              "        b'call mexican tho proud hispanic bitch sure like dick tho hoe',\n",
              "        b'childrens day kid age #touchthesky',\n",
              "        b'gonig hea want like #feelinggreat #smilemore',\n",
              "        b'five honor kill case hour punjab concerned half kilo bag kilo bag ramzan',\n",
              "        b'still really confused #humplayproblems think lucricus fag dagger',\n",
              "        b'bitch probably deserve lol', b'#sdl june',\n",
              "        b'bitch win ralphy thanks',\n",
              "        b'amp bitch ask jean sag cuz tryna hold bandz',\n",
              "        b\"#motoz follow lg's track introduce whole new world modular smaphones #possibility\",\n",
              "        b\"bitch n't want fat ass follow hoe\",\n",
              "        b'man bring bitch ass ion give dam bout attitude',\n",
              "        b'prom amp graduation next week',\n",
              "        b'#sizzle sizzle #pop pop #outofpropane #dinner #food #foodblogger #pesto #porkchop #food',\n",
              "        b'bird amp bad #piggy #finger family #nursery rhyme lyric via',\n",
              "        b'integrity without honesty #leadership #quote #quote #inspirational',\n",
              "        b'dont hoe', b\"n't mind black people hate nigger\", b'journalism',\n",
              "        b\"someone class literally sit across bus n't even call dad bitch\",\n",
              "        b'magenta embroider letter popcorn gbp get #shop #cool #home #fun',\n",
              "        b'beginning new phase travel new pune international airpo netaji subhas chandra bose',\n",
              "        b'miss #lovely #brighton #homies #vegan #onwardsandupwards',\n",
              "        b\"see dis happen color man move into's neighborhood n't sick day\",\n",
              "        b'sway hbd want meet bihdaysway',\n",
              "        b'#mitb #mitbmatch next could #cashin tease #cashin maybe make everyone complain',\n",
              "        b'always #whitesides',\n",
              "        b\"would n't want #wedding #venue like #destinationwedding #love #beauty #palace\",\n",
              "        b\"n't bitch tell nigga mine ready tell level shit\",\n",
              "        b'amaze #singer #christinagrimmie never #ripchristinagrimmie heas forever',\n",
              "        b'title next episode sound epic #battleofthebastards sure gon one helluva battle',\n",
              "        b'amp together beauty enhance canvas create amp beauty #conquers',\n",
              "        b'spos day #smilingchildren #fun #fun #fun',\n",
              "        b'shit joel swore kid kid fucking snitch nigga pussy rat amp get',\n",
              "        b'guy definition white trash',\n",
              "        b'saw dead kitten crack phone within ten minute',\n",
              "        b'pledge allegiance pussy',\n",
              "        b'jealousy make bitch anything thirst make nigga anything',\n",
              "        b\"n't light skin nigga i'm even color lmao\",\n",
              "        b'norway kill whale #whale #norway #killingwhales #cruel #scandinavia',\n",
              "        b'wan state record hoe', b'send hoe',\n",
              "        b'girl tweet might ghetto bring food outside movie might stupid pay',\n",
              "        b'every time mom call bitch something lol',\n",
              "        b\"somewhere world bitch order rose n't look like lonely bitch office\",\n",
              "        b'flavorrun happy weekend flavor runner #weekendmiles #fitness #funny #squad #friendsk #funrunkaday',\n",
              "        b'thankful challenge #thankful #positive',\n",
              "        b'get kenwood amp probably ghetto right',\n",
              "        b'good feeling kind day #smile #loveyourself #howtobesingle',\n",
              "        b'book online best book system use date thank #casanova',\n",
              "        b'never understand girl post drama fight twitter make big fool',\n",
              "        b'bitch shoot music video', b'live life', b\"n't even follow bitch\",\n",
              "        b'#bougainvilliea',\n",
              "        b\"y'all nigga entertain nicole bitch n't see y'all ever take bitch post naked pic serious\",\n",
              "        b'surround people inspire make good #inspiration #motivation #positivity',\n",
              "        b'orlando #orlando #rip',\n",
              "        b\"correction good bring one classy bitch home momma n't deal random hoe house\",\n",
              "        b'say ratchet pussy juicy cant'], dtype=object)>,\n",
              " <tf.Tensor: shape=(256,), dtype=int64, numpy=\n",
              " array([0, 0, 0, 0, 1, 0, 1, 1, 1, 0, 1, 0, 0, 0, 0, 1, 0, 1, 1, 0, 1, 1,\n",
              "        0, 1, 0, 0, 1, 0, 1, 0, 1, 1, 1, 1, 0, 0, 1, 1, 1, 1, 1, 0, 1, 0,\n",
              "        1, 0, 0, 1, 1, 0, 0, 0, 1, 0, 1, 1, 1, 1, 1, 1, 1, 0, 0, 0, 1, 1,\n",
              "        1, 0, 0, 0, 0, 0, 1, 1, 0, 1, 1, 1, 0, 0, 0, 0, 1, 1, 1, 0, 0, 0,\n",
              "        1, 1, 1, 0, 1, 1, 1, 0, 1, 0, 0, 1, 0, 0, 0, 1, 1, 1, 0, 1, 1, 0,\n",
              "        0, 1, 0, 0, 1, 0, 1, 1, 1, 1, 1, 1, 0, 0, 1, 1, 1, 0, 0, 1, 0, 0,\n",
              "        1, 1, 0, 0, 0, 1, 0, 0, 0, 1, 0, 0, 0, 0, 1, 0, 0, 1, 0, 0, 0, 0,\n",
              "        0, 0, 0, 0, 1, 0, 1, 0, 1, 1, 0, 0, 1, 0, 1, 0, 0, 1, 0, 1, 1, 1,\n",
              "        1, 0, 0, 0, 1, 0, 1, 0, 1, 0, 0, 1, 0, 0, 1, 0, 1, 0, 0, 0, 1, 0,\n",
              "        0, 0, 1, 1, 0, 1, 1, 0, 1, 1, 0, 0, 0, 0, 1, 1, 0, 1, 0, 0, 0, 1,\n",
              "        0, 0, 0, 0, 1, 0, 0, 0, 0, 1, 1, 0, 1, 1, 1, 0, 1, 1, 1, 1, 1, 0,\n",
              "        0, 1, 0, 0, 0, 1, 0, 1, 0, 1, 0, 0, 1, 1])>)"
            ]
          },
          "metadata": {},
          "execution_count": 14
        }
      ]
    },
    {
      "cell_type": "markdown",
      "source": [
        "## Using nnlm-en-dim50 model\n",
        "\n",
        "Token based text embedding trained on English Google News 7B corpus.\n",
        "\n",
        "\n"
      ],
      "metadata": {
        "id": "iyVK6oi8SUZ5"
      }
    },
    {
      "cell_type": "markdown",
      "source": [
        "BLOCK 6"
      ],
      "metadata": {
        "id": "lZNNYfKJ3LlQ"
      }
    },
    {
      "cell_type": "code",
      "source": [
        "embedding = \"https://tfhub.dev/google/nnlm-en-dim50/2\"\n",
        "hub_layer = hub.KerasLayer(embedding, dtype=tf.string, trainable=True)\n",
        "\n",
        "#embedding is a URL string that points to a pre-trained embedding model hosted on TensorFlow Hub. \n",
        "#In this case, it is the NNLM (Neural Network Language Model) model trained on English text with 50 dimensions.\n",
        "\n",
        "#hub_layer is a KerasLayer that loads the pre-trained embedding model from the URL string specified in embedding. \n",
        "#It specifies the input data type as tf.string, which is the data type of the text data, \n",
        "#and sets trainable as True to fine-tune the weights of the pre-trained model during training. \n",
        "#This layer can be added to a Keras model as the first layer to take in text data as input and output the corresponding embeddings."
      ],
      "metadata": {
        "id": "fPO4ts0A1PJO"
      },
      "execution_count": 15,
      "outputs": []
    },
    {
      "cell_type": "code",
      "source": [
        "hub_layer(list(train_data)[0][0])\n",
        "#This code applies the hub_layer created in the previous code block to the first batch of the training data (list(train_data)[0][0]), \n",
        "#which is a tuple containing the input tweet texts and their corresponding labels."
      ],
      "metadata": {
        "colab": {
          "base_uri": "https://localhost:8080/"
        },
        "id": "NMqNgIu_1PaD",
        "outputId": "8f2f0d15-f77e-45bd-b35a-15eab0c317f9"
      },
      "execution_count": 16,
      "outputs": [
        {
          "output_type": "execute_result",
          "data": {
            "text/plain": [
              "<tf.Tensor: shape=(256, 50), dtype=float32, numpy=\n",
              "array([[ 0.45978546, -0.20010242, -0.24247447, ..., -0.2758971 ,\n",
              "         0.04271352,  0.15172802],\n",
              "       [ 0.13726735,  0.0221791 , -0.4439584 , ..., -0.07071715,\n",
              "         0.18375547,  0.22941239],\n",
              "       [ 0.10884704, -0.43065596, -0.43730292, ..., -0.00654227,\n",
              "        -0.06117399, -0.00715901],\n",
              "       ...,\n",
              "       [ 0.5029083 , -0.01390251,  0.24099869, ..., -0.19234806,\n",
              "         0.04353707,  0.15428233],\n",
              "       [ 0.33913505, -0.05714668,  0.2973249 , ..., -0.0327189 ,\n",
              "        -0.30339026,  0.15871252],\n",
              "       [ 0.24893029, -0.06847649, -0.2505254 , ..., -0.1272309 ,\n",
              "         0.20204635, -0.06366417]], dtype=float32)>"
            ]
          },
          "metadata": {},
          "execution_count": 16
        }
      ]
    },
    {
      "cell_type": "markdown",
      "source": [
        "## Final Model for hate speech classification"
      ],
      "metadata": {
        "id": "7yLLMZEDSmDj"
      }
    },
    {
      "cell_type": "markdown",
      "source": [
        "BLOCK 7"
      ],
      "metadata": {
        "id": "_hJehy-73PMj"
      }
    },
    {
      "cell_type": "code",
      "source": [
        "# model architecture\n",
        "#This code creates a neural network model with the following architecture:\n",
        "model = tf.keras.Sequential()\n",
        "model.add(hub_layer)\n",
        "#The first layer is a pre-trained Keras layer that maps text inputs to 50-dimensional embeddings, obtained from the \"nnlm-en-dim50\" module from TensorFlow Hub.\n",
        "model.add(tf.keras.layers.Dense(256, activation='relu'))\n",
        "#The next layer is a dense layer with 256 units and ReLU activation.\n",
        "model.add(tf.keras.layers.Dropout(0.5))\n",
        "#A dropout layer is added after the dense layer to regularize the network and prevent overfitting. The dropout rate is set to 0.5.\n",
        "model.add(tf.keras.layers.Dense(128, activation='relu'))\n",
        "#Another dense layer is added with 128 units and ReLU activation.\n",
        "model.add(tf.keras.layers.Dropout(0.2))\n",
        "#Another dropout layer is added with a dropout rate of 0.2.\n",
        "model.add(tf.keras.layers.Dense(32, activation='relu'))\n",
        "#A third dense layer is added with 32 units and ReLU activation.\n",
        "model.add(tf.keras.layers.Dropout(0.4))\n",
        "#A fourth dropout layer is added with a dropout rate of 0.4.\n",
        "model.add(tf.keras.layers.Dense(1, activation='sigmoid'))\n",
        "#The final output layer is a dense layer with 1 unit and sigmoid activation, used to produce binary classification output."
      ],
      "metadata": {
        "id": "8kIPwnxS1PlM"
      },
      "execution_count": 17,
      "outputs": []
    },
    {
      "cell_type": "code",
      "source": [
        "# defining callback for on epoch end\n",
        "#A mycallback class is defined which is a subclass of tf.keras.callbacks.Callback.\n",
        "class mycallback(tf.keras.callbacks.Callback):\n",
        "  #on_epoch_end method is defined which will be called at the end of each epoch.\n",
        "  def on_epoch_end(self, epoch, logs={}):\n",
        "    if logs.get('accuracy') > 0.997 and logs.get('val_accuracy') > 0.975:\n",
        "      #The logs parameter is used to get the values of accuracy and validation accuracy at the end of each epoch.\n",
        "      print('\\n\\n\\nTraining Stopped. Accuracy reached 99.7% and Validation accuracy reached 97.5%\\n\\n')\n",
        "      #If the accuracy of the model on training data is greater than 0.997 and the validation accuracy is greater than 0.975, then it will print a message and stop training the model.\n",
        "      self.model.stop_training = True\n",
        "      #An instance of mycallback class is created and assigned to the variable callback.\n",
        "callback = mycallback()"
      ],
      "metadata": {
        "id": "3rjezkB2B3NT"
      },
      "execution_count": 18,
      "outputs": []
    },
    {
      "cell_type": "markdown",
      "source": [
        "BLOCK 8"
      ],
      "metadata": {
        "id": "snZeQxqa4Zx4"
      }
    },
    {
      "cell_type": "code",
      "source": [
        "# compiling model\n",
        "\n",
        "model.compile(optimizer=tf.keras.optimizers.Adam(learning_rate=0.001),\n",
        "              #model.compile() function is used to configure the model for training.\n",
        "              #optimizer parameter specifies the optimization algorithm used to minimize the loss \n",
        "              #function. Here, Adam optimization algorithm is used with a learning rate of 0.001.\n",
        "              loss=tf.keras.losses.BinaryCrossentropy(),\n",
        "              #loss parameter specifies the loss function to be minimized during training. \n",
        "              #Here, Binary Cross-Entropy loss function is used because it is suitable for binary classification problems.\n",
        "              metrics=[\"accuracy\"])\n",
        "              #metrics parameter specifies the evaluation metrics to be used to monitor the training and testing steps. Here, accuracy is used as the evaluation metric."
      ],
      "metadata": {
        "id": "m-EKoW2O5wJM"
      },
      "execution_count": 19,
      "outputs": []
    },
    {
      "cell_type": "code",
      "source": [
        "# testing untrained model on train data for accuracy\n",
        "\n",
        "model.evaluate(train_data)"
      ],
      "metadata": {
        "colab": {
          "base_uri": "https://localhost:8080/"
        },
        "id": "mYwNStic6PO9",
        "outputId": "17efe035-c75b-4e99-d231-b5c378dbc0d3"
      },
      "execution_count": 20,
      "outputs": [
        {
          "output_type": "stream",
          "name": "stdout",
          "text": [
            "126/126 [==============================] - 7s 4ms/step - loss: 0.7000 - accuracy: 0.4050\n"
          ]
        },
        {
          "output_type": "execute_result",
          "data": {
            "text/plain": [
              "[0.6999505758285522, 0.40502116084098816]"
            ]
          },
          "metadata": {},
          "execution_count": 20
        }
      ]
    },
    {
      "cell_type": "code",
      "source": [
        "# testing untrained model on validation data for accuracy\n",
        "\n",
        "model.evaluate(val_data)"
      ],
      "metadata": {
        "colab": {
          "base_uri": "https://localhost:8080/"
        },
        "id": "gTThL4O06YBU",
        "outputId": "e2a1efcc-5252-4003-912f-18892885bd11"
      },
      "execution_count": 21,
      "outputs": [
        {
          "output_type": "stream",
          "name": "stdout",
          "text": [
            "16/16 [==============================] - 0s 4ms/step - loss: 0.7003 - accuracy: 0.3982\n"
          ]
        },
        {
          "output_type": "execute_result",
          "data": {
            "text/plain": [
              "[0.7002557516098022, 0.39820805191993713]"
            ]
          },
          "metadata": {},
          "execution_count": 21
        }
      ]
    },
    {
      "cell_type": "code",
      "source": [
        "# training model for 10 epoch but with defined callback\n",
        "\n",
        "history = model.fit(train_data, epochs=100, validation_data=val_data, callbacks=callback)"
      ],
      "metadata": {
        "colab": {
          "base_uri": "https://localhost:8080/"
        },
        "id": "2UhyIwsr6cON",
        "outputId": "bc064b37-ff59-4fc4-9b60-8c9b987ea1d4"
      },
      "execution_count": 22,
      "outputs": [
        {
          "output_type": "stream",
          "name": "stdout",
          "text": [
            "Epoch 1/100\n",
            "126/126 [==============================] - 24s 161ms/step - loss: 0.2487 - accuracy: 0.9016 - val_loss: 0.0901 - val_accuracy: 0.9657\n",
            "Epoch 2/100\n",
            "126/126 [==============================] - 11s 89ms/step - loss: 0.0697 - accuracy: 0.9800 - val_loss: 0.0625 - val_accuracy: 0.9806\n",
            "Epoch 3/100\n",
            "126/126 [==============================] - 7s 52ms/step - loss: 0.0371 - accuracy: 0.9909 - val_loss: 0.0613 - val_accuracy: 0.9811\n",
            "Epoch 4/100\n",
            "126/126 [==============================] - 8s 61ms/step - loss: 0.0233 - accuracy: 0.9952 - val_loss: 0.0677 - val_accuracy: 0.9813\n",
            "Epoch 5/100\n",
            "126/126 [==============================] - 4s 33ms/step - loss: 0.0166 - accuracy: 0.9965 - val_loss: 0.0783 - val_accuracy: 0.9798\n",
            "Epoch 6/100\n",
            "126/126 [==============================] - ETA: 0s - loss: 0.0137 - accuracy: 0.9974\n",
            "\n",
            "\n",
            "Training Stopped. Accuracy reached 99.7% and Validation accuracy reached 97.5%\n",
            "\n",
            "\n",
            "126/126 [==============================] - 4s 31ms/step - loss: 0.0137 - accuracy: 0.9974 - val_loss: 0.0861 - val_accuracy: 0.9778\n"
          ]
        }
      ]
    },
    {
      "cell_type": "code",
      "source": [
        "# testing trained model on test data for accuracy\n",
        "\n",
        "accuracy = model.evaluate(test_data)[1]\n",
        "\n",
        "print(f'\\nThe accuracy of trained model on test data is : {round((accuracy)*100,2)} %')"
      ],
      "metadata": {
        "colab": {
          "base_uri": "https://localhost:8080/"
        },
        "id": "NNOlGkb07pq9",
        "outputId": "c6c1cda2-4e93-427b-86cc-060c9b01ddb7"
      },
      "execution_count": 23,
      "outputs": [
        {
          "output_type": "stream",
          "name": "stdout",
          "text": [
            "16/16 [==============================] - 0s 8ms/step - loss: 0.1227 - accuracy: 0.9741\n",
            "\n",
            "The accuracy of trained model on test data is : 97.41 %\n"
          ]
        }
      ]
    },
    {
      "cell_type": "markdown",
      "source": [
        "### Plotting Accuracy and loss curve"
      ],
      "metadata": {
        "id": "PG9H59vfTg2r"
      }
    },
    {
      "cell_type": "markdown",
      "source": [
        "BLOCK 9"
      ],
      "metadata": {
        "id": "rTKu5i6f48Hz"
      }
    },
    {
      "cell_type": "code",
      "source": [
        "#This code defines the training history of the neural network model.\n",
        "\n",
        "acc = history.history['accuracy']\n",
        "#A list of accuracy values of the model during training on the training set.\n",
        "val_acc = history.history['val_accuracy']\n",
        "#A list of accuracy values of the model during training on the validation set.\n",
        "loss = history.history['loss']\n",
        "#A list of loss values of the model during training on the training set.\n",
        "val_loss = history.history['val_loss']\n",
        "# A list of loss values of the model during training on the validation set.\n",
        "\n",
        "epochs = range(1, len(acc) + 1)\n",
        "#The number of epochs for which the model was trained, ranging from 1 to the length of the acc list."
      ],
      "metadata": {
        "id": "reCPTp81T5Lq"
      },
      "execution_count": 24,
      "outputs": []
    },
    {
      "cell_type": "code",
      "source": [
        "# Taining accuracy Vs Validation accuracy\n",
        "\n",
        "# \"r\" is for \"solid red line\"\n",
        "plt.plot(epochs, acc, 'r', label='Training accuracy')\n",
        "# b is for \"solid blue line\"\n",
        "plt.plot(epochs, val_acc, 'b', label='Validation accuracy')\n",
        "plt.title('Training Vs Validation Accuracy')\n",
        "plt.xlabel('Epochs')\n",
        "plt.ylabel('Accuracy')\n",
        "plt.legend()\n",
        "\n",
        "plt.show()"
      ],
      "metadata": {
        "colab": {
          "base_uri": "https://localhost:8080/",
          "height": 472
        },
        "id": "-SNt4Gqu-m7Y",
        "outputId": "9047a826-a56e-4b48-e167-a50957617764"
      },
      "execution_count": 25,
      "outputs": [
        {
          "output_type": "display_data",
          "data": {
            "text/plain": [
              "<Figure size 640x480 with 1 Axes>"
            ],
            "image/png": "[encoded data removed]"
          },
          "metadata": {}
        }
      ]
    },
    {
      "cell_type": "code",
      "source": [
        "# Taining loss Vs Validation loss\n",
        "\n",
        "# \"r\" is for \"solid red line\"\n",
        "plt.plot(epochs, loss, 'r', label='Training loss')\n",
        "# b is for \"solid blue line\"\n",
        "plt.plot(epochs, val_loss, 'b', label='Validation loss')\n",
        "plt.title('Training Vs Validation Loss')\n",
        "plt.xlabel('Epochs')\n",
        "plt.ylabel('Loss')\n",
        "plt.legend()\n",
        "\n",
        "plt.show()"
      ],
      "metadata": {
        "id": "OQ91gRyuWCM-",
        "colab": {
          "base_uri": "https://localhost:8080/",
          "height": 472
        },
        "outputId": "0f652709-59d1-45a8-bf40-1dedffb423b5"
      },
      "execution_count": 26,
      "outputs": [
        {
          "output_type": "display_data",
          "data": {
            "text/plain": [
              "<Figure size 640x480 with 1 Axes>"
            ],
            "image/png": "[encoded data removed]"
          },
          "metadata": {}
        }
      ]
    }
  ]
}